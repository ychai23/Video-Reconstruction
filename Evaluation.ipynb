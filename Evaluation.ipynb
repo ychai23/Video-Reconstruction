{
  "cells": [
    {
      "cell_type": "code",
      "execution_count": null,
      "id": "fbe96483-0a8c-4cf3-a5e3-aeacbfea0ad8",
      "metadata": {
        "id": "fbe96483-0a8c-4cf3-a5e3-aeacbfea0ad8"
      },
      "outputs": [],
      "source": [
        "import numpy as np"
      ]
    },
    {
      "cell_type": "code",
      "execution_count": null,
      "id": "badf6d4b-ea0d-4809-ae64-5e4574221b33",
      "metadata": {
        "id": "badf6d4b-ea0d-4809-ae64-5e4574221b33"
      },
      "outputs": [],
      "source": [
        "# read and and preprocess the groundtruth\n",
        "\n",
        "with open('gt_sequence.txt', 'r') as f:\n",
        "  data = [line.strip().split() for line in f.readlines()]"
      ]
    },
    {
      "cell_type": "code",
      "execution_count": null,
      "id": "c90f9d86-b5af-4891-94fd-9dd659e9cc0e",
      "metadata": {
        "id": "c90f9d86-b5af-4891-94fd-9dd659e9cc0e"
      },
      "outputs": [],
      "source": [
        "path = np.load('./predictions.npy') # Predictions "
      ]
    },
    {
      "cell_type": "code",
      "execution_count": null,
      "id": "4429f2ad-8334-4df0-8653-f25ba3610783",
      "metadata": {
        "id": "4429f2ad-8334-4df0-8653-f25ba3610783"
      },
      "outputs": [],
      "source": [
        "# Evaluation based on average mean squared error between the predicted\n",
        "# coordinates and the ground truth coordinates\n",
        "mse_scores = []\n",
        "for pose, pred_coord in zip(path, data):\n",
        "  gt_coord = np.array([float(pose[3]), float(pose[7]), float(pose[11])])\n",
        "  mse_scores.append(np.linalg.norm(pred_coord - gt_coord))\n",
        "\n",
        "# You can expect to get less than 40 MSE\n",
        "mse_scores = np.array(mse_scores)\n",
        "print('avg_mse scores', mse_scores)"
      ]
    }
  ],
  "metadata": {
    "kernelspec": {
      "display_name": "Python 3 (ipykernel)",
      "language": "python",
      "name": "python3"
    },
    "language_info": {
      "codemirror_mode": {
        "name": "ipython",
        "version": 3
      },
      "file_extension": ".py",
      "mimetype": "text/x-python",
      "name": "python",
      "nbconvert_exporter": "python",
      "pygments_lexer": "ipython3",
      "version": "3.10.3"
    },
    "colab": {
      "name": "Evaluation.ipynb",
      "provenance": []
    }
  },
  "nbformat": 4,
  "nbformat_minor": 5
}